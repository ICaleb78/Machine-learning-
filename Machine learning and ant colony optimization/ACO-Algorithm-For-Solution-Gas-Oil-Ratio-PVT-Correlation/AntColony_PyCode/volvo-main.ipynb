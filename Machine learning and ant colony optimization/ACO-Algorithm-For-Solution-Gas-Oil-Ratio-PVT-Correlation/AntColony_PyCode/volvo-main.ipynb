{
 "cells": [
  {
   "cell_type": "code",
   "execution_count": 2,
   "id": "00e9ba5d-4af9-4c85-8f5a-7f033d39ce45",
   "metadata": {},
   "outputs": [
    {
     "ename": "NameError",
     "evalue": "name '__file__' is not defined",
     "output_type": "error",
     "traceback": [
      "\u001b[1;31m---------------------------------------------------------------------------\u001b[0m",
      "\u001b[1;31mNameError\u001b[0m                                 Traceback (most recent call last)",
      "Cell \u001b[1;32mIn[2], line 9\u001b[0m\n\u001b[0;32m      6\u001b[0m pvt_data_df \u001b[38;5;241m=\u001b[39m pd\u001b[38;5;241m.\u001b[39mread_csv(\u001b[38;5;124m'\u001b[39m\u001b[38;5;124m../pvt_Data/cleaned_production_data.csv\u001b[39m\u001b[38;5;124m'\u001b[39m)\n\u001b[0;32m      8\u001b[0m \u001b[38;5;66;03m# Adding the parent directory of 'Linear_Regression_Module' to the sys.path\u001b[39;00m\n\u001b[1;32m----> 9\u001b[0m sys\u001b[38;5;241m.\u001b[39mpath\u001b[38;5;241m.\u001b[39mappend(os\u001b[38;5;241m.\u001b[39mpath\u001b[38;5;241m.\u001b[39mabspath(os\u001b[38;5;241m.\u001b[39mpath\u001b[38;5;241m.\u001b[39mjoin(os\u001b[38;5;241m.\u001b[39mpath\u001b[38;5;241m.\u001b[39mdirname(\u001b[38;5;18m__file__\u001b[39m), \u001b[38;5;124m'\u001b[39m\u001b[38;5;124m..\u001b[39m\u001b[38;5;124m'\u001b[39m)))\n\u001b[0;32m     10\u001b[0m \u001b[38;5;28;01mfrom\u001b[39;00m \u001b[38;5;21;01mAntColony_PyCode\u001b[39;00m\u001b[38;5;21;01m.\u001b[39;00m\u001b[38;5;21;01mant_colony_optimization\u001b[39;00m \u001b[38;5;28;01mimport\u001b[39;00m AntColonyOptimization\n\u001b[0;32m     12\u001b[0m \u001b[38;5;66;03m# Create ACO instance and run\u001b[39;00m\n",
      "\u001b[1;31mNameError\u001b[0m: name '__file__' is not defined"
     ]
    }
   ],
   "source": [
    "import pandas as pd\n",
    "import sys\n",
    "import os\n",
    "\n",
    "# Load the data from CSV\n",
    "pvt_data_df = pd.read_csv('../pvt_Data/cleaned_production_data.csv')\n",
    "\n",
    "# Adding the parent directory of 'Linear_Regression_Module' to the sys.path\n",
    "sys.path.append(os.path.abspath(os.path.join(os.path.dirname(__file__), '..')))\n",
    "from AntColony_PyCode.ant_colony_optimization import AntColonyOptimization\n",
    "\n",
    "# Create ACO instance and run\n",
    "aco = AntColonyOptimization(pvt_data_df, num_ants=10, num_iterations=100, decay=0.95, alpha=1, beta=2)\n",
    "results = aco.run()\n",
    "\n",
    "# Output the results\n",
    "print(f\"Shortest Path: {results['shortest_path']}\")\n",
    "print(f\"Shortest Cost: {results['shortest_cost']}\")\n",
    "print(f\"GOR Values: {results['gor_values']}\")"
   ]
  },
  {
   "cell_type": "code",
   "execution_count": 9,
   "id": "05534a1f-3f5f-4c40-b0bc-9fbdc8c92ddb",
   "metadata": {},
   "outputs": [
    {
     "ename": "NameError",
     "evalue": "name 'filtered_data' is not defined",
     "output_type": "error",
     "traceback": [
      "\u001b[1;31m---------------------------------------------------------------------------\u001b[0m",
      "\u001b[1;31mNameError\u001b[0m                                 Traceback (most recent call last)",
      "Cell \u001b[1;32mIn[9], line 9\u001b[0m\n\u001b[0;32m      1\u001b[0m \u001b[38;5;66;03m# Step 5: Optional - Add new data and re-run the algorithm\u001b[39;00m\n\u001b[0;32m      2\u001b[0m new_data \u001b[38;5;241m=\u001b[39m {\n\u001b[0;32m      3\u001b[0m     \u001b[38;5;124m'\u001b[39m\u001b[38;5;124mAVG_DOWNHOLE_PRESSURE\u001b[39m\u001b[38;5;124m'\u001b[39m: \u001b[38;5;241m3000\u001b[39m,\n\u001b[0;32m      4\u001b[0m     \u001b[38;5;124m'\u001b[39m\u001b[38;5;124mAVG_DOWNHOLE_TEMPERATURE\u001b[39m\u001b[38;5;124m'\u001b[39m: \u001b[38;5;241m150\u001b[39m,\n\u001b[1;32m   (...)\u001b[0m\n\u001b[0;32m      7\u001b[0m     \u001b[38;5;124m'\u001b[39m\u001b[38;5;124mGOR\u001b[39m\u001b[38;5;124m'\u001b[39m: \u001b[38;5;241m1000\u001b[39m  \u001b[38;5;66;03m# Value for the GOR column\u001b[39;00m\n\u001b[0;32m      8\u001b[0m }\n\u001b[1;32m----> 9\u001b[0m filtered_data \u001b[38;5;241m=\u001b[39m filtered_data\u001b[38;5;241m.\u001b[39mappend(new_data, ignore_index\u001b[38;5;241m=\u001b[39m\u001b[38;5;28;01mTrue\u001b[39;00m)  \u001b[38;5;66;03m# Add new data\u001b[39;00m\n\u001b[0;32m     10\u001b[0m aco \u001b[38;5;241m=\u001b[39m AntColonyOptimization(filtered_data)  \u001b[38;5;66;03m# Re-initialize with updated data\u001b[39;00m\n\u001b[0;32m     12\u001b[0m \u001b[38;5;66;03m# Run the algorithm again\u001b[39;00m\n",
      "\u001b[1;31mNameError\u001b[0m: name 'filtered_data' is not defined"
     ]
    }
   ],
   "source": [
    "\n",
    "# Step 5: Optional - Add new data and re-run the algorithm\n",
    "new_data = {\n",
    "    'AVG_DOWNHOLE_PRESSURE': 3000,\n",
    "    'AVG_DOWNHOLE_TEMPERATURE': 150,\n",
    "    'AVG_ANNULUS_PRESSURE': 2500,\n",
    "    'AVG_CHOKE_SIZE_P': 20,\n",
    "    'GOR': 1000  # Value for the GOR column\n",
    "}\n",
    "filtered_data = filtered_data.append(new_data, ignore_index=True)  # Add new data\n",
    "aco = AntColonyOptimization(filtered_data)  # Re-initialize with updated data\n",
    "\n",
    "# Run the algorithm again\n",
    "shortest_path, shortest_cost, gor_values = aco.run()\n",
    "\n",
    "# Output updated results\n",
    "print(\"Updated Shortest Path:\", shortest_path)\n",
    "print(\"Updated Shortest Cost:\", shortest_cost)\n",
    "print(\"Updated GOR Values for Shortest Path:\", gor_values)\n"
   ]
  },
  {
   "cell_type": "code",
   "execution_count": null,
   "id": "7467fe3c-0cdb-4eec-9c24-729db89d514a",
   "metadata": {},
   "outputs": [],
   "source": []
  }
 ],
 "metadata": {
  "kernelspec": {
   "display_name": "Python 3 (ipykernel)",
   "language": "python",
   "name": "python3"
  },
  "language_info": {
   "codemirror_mode": {
    "name": "ipython",
    "version": 3
   },
   "file_extension": ".py",
   "mimetype": "text/x-python",
   "name": "python",
   "nbconvert_exporter": "python",
   "pygments_lexer": "ipython3",
   "version": "3.12.4"
  }
 },
 "nbformat": 4,
 "nbformat_minor": 5
}
