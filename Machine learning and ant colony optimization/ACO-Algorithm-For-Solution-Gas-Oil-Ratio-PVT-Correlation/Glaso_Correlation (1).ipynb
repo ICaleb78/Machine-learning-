{
 "cells": [
  {
   "cell_type": "markdown",
   "id": "33ae3984-0bb2-4a9d-b527-a52e3c994a68",
   "metadata": {},
   "source": [
    "# GLASO CORRELATION"
   ]
  },
  {
   "cell_type": "markdown",
   "id": "20574cb2-8618-42c7-8dee-b8fe0418912c",
   "metadata": {},
   "source": [
    "# Solution Gas-Oil Ratio (Rs) Estimation Using the Glaso (1980) Correlation\n",
    "\n",
    "The objective is to estimate the solution gas-oil ratio (R_s) using a modified version of the Glaso (1980) correlation. This method involves defining (R_s) as a function of reservoir parameters, such as gas gravity, API gravity, temperature, and pressure. The correlation relies on a set of optimization parameters `alpha_1` to `alpha_7` to minimize the difference between actual and estimated R_s values through optimization algorithms.\n"
   ]
  },
  {
   "cell_type": "markdown",
   "id": "2042a70f-8af6-4dd9-8eef-95ee682520c7",
   "metadata": {},
   "source": [
    "### Formula for Estimated R_s\n",
    "\n",
    "The equation to estimate R_s is given by:"
   ]
  },
  {
   "cell_type": "code",
   "execution_count": 91,
   "id": "6cdf9601-b461-4af2-b7cc-2588f034f547",
   "metadata": {},
   "outputs": [
    {
     "data": {
      "text/latex": [
       "$\\displaystyle \\gamma_{g} \\left(10^{x} API^{\\alpha_{1}} \\left(T - 460\\right)^{- \\alpha_{2}}\\right)^{\\alpha_{3}}$"
      ],
      "text/plain": [
       "gamma_g*(10**x*API**alpha_1/(T - 460)**alpha_2)**alpha_3"
      ]
     },
     "execution_count": 91,
     "metadata": {},
     "output_type": "execute_result"
    }
   ],
   "source": [
    "from sympy import*\n",
    "\n",
    "# Defining the symbols\n",
    "gamma_g, API, T, alpha_1, alpha_2, alpha_3, x = symbols('gamma_g API T alpha_1 alpha_2 alpha_3 x')\n",
    "\n",
    "# Defining the equation for Rs\n",
    "Rs = gamma_g * ((API ** alpha_1 / (T - 460) ** alpha_2) * 10 ** x) ** alpha_3\n",
    "\n",
    "# Displaying the equation\n",
    "Rs"
   ]
  },
  {
   "cell_type": "markdown",
   "id": "5d5293a6-7b20-4020-94cb-d77a2fe447bb",
   "metadata": {},
   "source": [
    "### Variables\n",
    "\n",
    "- **\\( R_s \\)**: The solution gas-oil ratio. It represents the amount of gas dissolved in oil under reservoir conditions, measured in standard cubic feet per stock tank barrel (scf/STB).\n",
    "\n",
    "- **\\( \\gamma_g \\)**: The specific gravity of the gas. This is a dimensionless value representing the density of the gas relative to air, where air has a specific gravity of 1. A higher \\( \\gamma_g \\) means the gas is denser.\n",
    "\n",
    "- **API**: The API gravity of the oil, measured in degrees. API gravity is an industry-standard measurement to indicate how heavy or light a petroleum liquid is relative to water. The higher the API, the lighter the oil.\n",
    "\n",
    "- **\\( T \\)**: The reservoir temperature in degrees Fahrenheit (°F). This temperature affects the solubility of gas in oil; generally, higher temperatures result in lower gas solubility.\n",
    "\n",
    "- **\\( \\alpha_1, \\alpha_2, \\alpha_3 \\)**: These are optimization parameters to be determined. Each of these parameters affects the relationship between API gravity, temperature, and solution gas-oil ratio:\n",
    "    - **\\( \\alpha_1 \\)**: Exponent for API gravity.\n",
    "    - **\\( \\alpha_2 \\)**: Exponent for temperature.\n",
    "    - **\\( \\alpha_3 \\)**: Exponent applied to the entire term within brackets to adjust the scaling.\n",
    "\n",
    "- **\\( x \\)**: An intermediate variable calculated as part of the model, which depends on reservoir pressure and other factors. It is often computed separately using its own equation in the model.\n"
   ]
  },
  {
   "cell_type": "code",
   "execution_count": 103,
   "id": "9725265e-07b6-43c7-a1b3-2419cb160e93",
   "metadata": {},
   "outputs": [
    {
     "name": "stdout",
     "output_type": "stream",
     "text": [
      "The formula for finding x is : \n"
     ]
    },
    {
     "data": {
      "text/latex": [
       "$\\displaystyle \\alpha_{4} - \\left(\\alpha_{5} - \\alpha_{6} \\log{\\left(P \\right)}\\right)^{\\alpha_{7}}$"
      ],
      "text/plain": [
       "alpha_4 - (alpha_5 - alpha_6*log(P))**alpha_7"
      ]
     },
     "execution_count": 103,
     "metadata": {},
     "output_type": "execute_result"
    }
   ],
   "source": [
    "import sympy as sp\n",
    "\n",
    "# Defining symbols\n",
    "alpha_4, alpha_5, alpha_6, alpha_7, P = sp.symbols('alpha_4 alpha_5 alpha_6 alpha_7 P')\n",
    "\n",
    "# Defining the equation\n",
    "x = alpha_4 - (alpha_5 - alpha_6 * sp.log(P)) ** alpha_7\n",
    "\n",
    "# Displaying the equation\n",
    "print(\"The formula for finding x is : \")\n",
    "x"
   ]
  },
  {
   "cell_type": "markdown",
   "id": "7623c448-1418-4a1a-86dc-3654d27fe74e",
   "metadata": {},
   "source": [
    "where:\n",
    "- P: Reservoir pressure in psia\n",
    "- log: Logarithm base 10\n",
    "- alpha_4, alpha_5, alpha_6, alpha_7: Optimization parameters to be determined"
   ]
  },
  {
   "cell_type": "markdown",
   "id": "63199eb7-ea24-4c8c-9200-558debd523f0",
   "metadata": {},
   "source": [
    "\n",
    "### Purpose of Each Variable\n",
    "\n",
    "The equation aims to estimate the solution gas-oil ratio R_s by combining properties of the gas, oil, and reservoir conditions. The values of `alpha_1`, `alpha_2`, and `alpha_3` are optimized to fit experimental data and improve the accuracy of the model."
   ]
  },
  {
   "cell_type": "code",
   "execution_count": 2,
   "id": "ad5fcf46-3e4d-4d51-9c27-1070fa4345a4",
   "metadata": {},
   "outputs": [
    {
     "name": "stdout",
     "output_type": "stream",
     "text": [
      "Please provide the following inputs. If you're unsure about any of the values, consult the instructions.\n"
     ]
    },
    {
     "name": "stdin",
     "output_type": "stream",
     "text": [
      "Enter gas gravity (gamma_g):\n",
      "- Gas gravity is a measure of the density of gas relative to air.\n",
      "- Example: 0.743\n",
      "- Please enter a numeric value:  0.78\n",
      "Enter API gravity (API):\n",
      "- API gravity is a measure of how heavy or light a petroleum liquid is compared to water.\n",
      "- Example: 37\n",
      "- Please enter a numeric value:  88\n",
      "Enter temperature in Fahrenheit (T):\n",
      "- Temperature is required in Fahrenheit.\n",
      "- It should be greater than or equal to 460°F.\n",
      "- Example: 500\n",
      "- Please enter a numeric value:  987\n",
      "Enter reservoir pressure in psia (P):\n",
      "- Pressure is required in psia (pounds per square inch absolute).\n",
      "- Example: 3000\n",
      "- Please enter a numeric value:  8900\n",
      "Enter actual Rs values (comma-separated):\n",
      "- Rs values represent the gas-to-oil ratio at the given conditions.\n",
      "- Example: 500,600,578\n",
      "- Please enter your actual values separated by commas:  899,980,898\n"
     ]
    },
    {
     "name": "stdout",
     "output_type": "stream",
     "text": [
      "Optimized parameters: [ 1.      1.      1.      2.8869 14.1811  3.3053  0.5   ]\n",
      "Objective function value: 2750.872370574025\n"
     ]
    },
    {
     "name": "stderr",
     "output_type": "stream",
     "text": [
      "C:\\Users\\hp\\AppData\\Local\\Temp\\ipykernel_14820\\3591688177.py:37: RuntimeWarning: invalid value encountered in scalar power\n",
      "  x = alpha_4 - (alpha_5 - alpha_6 * np.log10(P)) ** alpha_7\n",
      "C:\\Users\\hp\\anaconda3\\Lib\\site-packages\\scipy\\optimize\\_numdiff.py:590: RuntimeWarning: invalid value encountered in subtract\n",
      "  df = fun(x) - f0\n"
     ]
    }
   ],
   "source": [
    "import numpy as np\n",
    "from scipy.optimize import minimize\n",
    "\n",
    "# Function to check if temperature and pressure are valid\n",
    "def check_inputs(T, P):\n",
    "    if T < 460:\n",
    "        raise ValueError(\"Temperature must be greater than or equal to 460°F for valid calculations.\")\n",
    "    if P <= 0:\n",
    "        raise ValueError(\"Pressure must be a positive value greater than zero for valid calculations.\")\n",
    "\n",
    "# User input with explicit instructions and examples\n",
    "print(\"Please provide the following inputs. If you're unsure about any of the values, consult the instructions.\")\n",
    "\n",
    "gamma_g = float(input(\"Enter gas gravity (gamma_g):\\n- Gas gravity is a measure of the density of gas relative to air.\\n- Example: 0.743\\n- Please enter a numeric value: \"))\n",
    "API = float(input(\"Enter API gravity (API):\\n- API gravity is a measure of how heavy or light a petroleum liquid is compared to water.\\n- Example: 37\\n- Please enter a numeric value: \"))\n",
    "T = float(input(\"Enter temperature in Fahrenheit (T):\\n- Temperature is required in Fahrenheit.\\n- It should be greater than or equal to 460°F.\\n- Example: 500\\n- Please enter a numeric value: \"))\n",
    "P = float(input(\"Enter reservoir pressure in psia (P):\\n- Pressure is required in psia (pounds per square inch absolute).\\n- Example: 3000\\n- Please enter a numeric value: \"))\n",
    "\n",
    "# Check temperature and pressure validity\n",
    "try:\n",
    "    check_inputs(T, P)\n",
    "except ValueError as e:\n",
    "    print(e)\n",
    "    exit()  # Exit the program if inputs are invalid\n",
    "\n",
    "# Actual Rs values from lab data (for demonstration)\n",
    "Rs_actual_input = input(\"Enter actual Rs values (comma-separated):\\n- Rs values represent the gas-to-oil ratio at the given conditions.\\n- Example: 500,600,578\\n- Please enter your actual values separated by commas: \")\n",
    "Rs_actual = list(map(float, Rs_actual_input.split(',')))\n",
    "\n",
    "# Define the model's estimated Rs function based on the formula\n",
    "def calculate_rs_estimated(alpha, gamma_g, API, T, P):\n",
    "    # Unpack the optimization parameters\n",
    "    alpha_1, alpha_2, alpha_3, alpha_4, alpha_5, alpha_6, alpha_7 = alpha\n",
    "\n",
    "    # Calculate x according to Equation 2 with checks for valid values\n",
    "    try:\n",
    "        x = alpha_4 - (alpha_5 - alpha_6 * np.log10(P)) ** alpha_7\n",
    "    except ValueError:\n",
    "        print(\"Invalid operation in x calculation\")\n",
    "        return np.nan\n",
    "\n",
    "    # Calculate Rs (estimated) according to Equation 1 with checks\n",
    "    try:\n",
    "        Rs_estimated = gamma_g * ((API ** alpha_1 / (T - 460) ** alpha_2) * 10 ** x) ** alpha_3\n",
    "    except ValueError:\n",
    "        print(\"Invalid operation in Rs_estimated calculation\")\n",
    "        return np.nan\n",
    "    \n",
    "    return Rs_estimated\n",
    "\n",
    "# Define the objective function for optimization\n",
    "def objective_function(alpha, gamma_g, API, T, P, Rs_actual):\n",
    "    errors = []\n",
    "    for actual_rs in Rs_actual:\n",
    "        estimated_rs = calculate_rs_estimated(alpha, gamma_g, API, T, P)\n",
    "        \n",
    "        # Check if Rs_estimated is valid\n",
    "        if np.isnan(estimated_rs):\n",
    "            return np.inf  # Return a high error if there was an invalid calculation\n",
    "\n",
    "        error = abs(actual_rs - estimated_rs)\n",
    "        errors.append(error)\n",
    "    \n",
    "    # Sum of absolute errors\n",
    "    return sum(errors)\n",
    "\n",
    "# Initial guess for the optimization parameters\n",
    "initial_alpha = [1.0, 1.0, 1.0, 2.8869, 14.1811, 3.3053, 0.5]  # Initial guesses for alpha values\n",
    "\n",
    "# Performing the optimization\n",
    "result = minimize(objective_function, initial_alpha, args=(gamma_g, API, T, P, Rs_actual), method='L-BFGS-B')\n",
    "\n",
    "# Optimized parameters are\n",
    "optimized_alpha = result.x\n",
    "print(\"Optimized parameters:\", optimized_alpha)\n",
    "print(\"Objective function value:\", result.fun)\n"
   ]
  },
  {
   "cell_type": "code",
   "execution_count": null,
   "id": "a16cefb0-47d5-4449-9906-7a899f5977c7",
   "metadata": {},
   "outputs": [],
   "source": []
  },
  {
   "cell_type": "code",
   "execution_count": null,
   "id": "4cfb7bae-65c5-4c74-b1c5-14ea1d31c7d0",
   "metadata": {},
   "outputs": [],
   "source": []
  }
 ],
 "metadata": {
  "kernelspec": {
   "display_name": "Python 3 (ipykernel)",
   "language": "python",
   "name": "python3"
  },
  "language_info": {
   "codemirror_mode": {
    "name": "ipython",
    "version": 3
   },
   "file_extension": ".py",
   "mimetype": "text/x-python",
   "name": "python",
   "nbconvert_exporter": "python",
   "pygments_lexer": "ipython3",
   "version": "3.12.4"
  }
 },
 "nbformat": 4,
 "nbformat_minor": 5
}
