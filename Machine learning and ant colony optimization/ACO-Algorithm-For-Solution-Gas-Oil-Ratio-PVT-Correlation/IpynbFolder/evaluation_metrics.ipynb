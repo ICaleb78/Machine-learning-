{
 "cells": [
  {
   "cell_type": "markdown",
   "metadata": {},
   "source": [
    "# Evaluation_Metrics"
   ]
  },
  {
   "cell_type": "code",
   "execution_count": 4,
   "metadata": {
    "colab": {
     "base_uri": "https://localhost:8080/"
    },
    "id": "hjWGEyY7eQhq",
    "outputId": "85cc08db-696d-4f20-bfd3-328c9a894df0"
   },
   "outputs": [
    {
     "name": "stdout",
     "output_type": "stream",
     "text": [
      "Input matrix (X):\n",
      "[[2.405e+03 3.700e+01 7.430e-01 1.290e+02]\n",
      " [2.200e+03 3.700e+01 7.430e-01 1.290e+02]\n",
      " [1.950e+03 3.700e+01 7.430e-01 1.290e+02]\n",
      " [1.700e+03 3.700e+01 7.430e-01 1.290e+02]\n",
      " [1.450e+03 3.700e+01 7.430e-01 1.290e+02]\n",
      " [1.200e+03 3.700e+01 7.430e-01 1.290e+02]\n",
      " [9.500e+02 3.700e+01 7.430e-01 1.290e+02]\n",
      " [7.000e+02 3.700e+01 7.430e-01 1.290e+02]\n",
      " [4.500e+02 3.700e+01 7.430e-01 1.290e+02]\n",
      " [2.000e+02 3.700e+01 7.430e-01 1.290e+02]]\n"
     ]
    }
   ],
   "source": [
    "import numpy as np\n",
    "#from pvt_Data.pvt_data import pvt_data\n",
    "\n",
    "# data.py\n",
    "pvt_data = [\n",
    "    {'bubble_point_pressure': 2405, 'api_gravity': 37, 'gas_gravity': 0.743, 'reservoir_temperature': 129, 'actual_gor': 737},\n",
    "    {'bubble_point_pressure': 2200, 'api_gravity': 37, 'gas_gravity': 0.743, 'reservoir_temperature': 129, 'actual_gor': 684},\n",
    "    {'bubble_point_pressure': 1950, 'api_gravity': 37, 'gas_gravity': 0.743, 'reservoir_temperature': 129, 'actual_gor': 620},\n",
    "    {'bubble_point_pressure': 1700, 'api_gravity': 37, 'gas_gravity': 0.743, 'reservoir_temperature': 129, 'actual_gor': 555},\n",
    "    {'bubble_point_pressure': 1450, 'api_gravity': 37, 'gas_gravity': 0.743, 'reservoir_temperature': 129, 'actual_gor': 492},\n",
    "    {'bubble_point_pressure': 1200, 'api_gravity': 37, 'gas_gravity': 0.743, 'reservoir_temperature': 129, 'actual_gor': 429},\n",
    "    {'bubble_point_pressure': 950, 'api_gravity': 37, 'gas_gravity': 0.743, 'reservoir_temperature': 129, 'actual_gor': 365},\n",
    "    {'bubble_point_pressure': 700, 'api_gravity': 37, 'gas_gravity': 0.743, 'reservoir_temperature': 129, 'actual_gor': 301},\n",
    "    {'bubble_point_pressure': 450, 'api_gravity': 37, 'gas_gravity': 0.743, 'reservoir_temperature': 129, 'actual_gor': 235},\n",
    "    {'bubble_point_pressure': 200, 'api_gravity': 37, 'gas_gravity': 0.743, 'reservoir_temperature': 129, 'actual_gor': 155},\n",
    "]\n",
    "\n",
    "\n",
    "# an empty list to store rows of X\n",
    "X_list = []\n",
    "\n",
    "# Iterate through each dictionary in pvt_data\n",
    "for data in pvt_data:\n",
    "    \n",
    "    # Extracting relevant values and append as a list to X_list\n",
    "    row = [\n",
    "        data['bubble_point_pressure'],\n",
    "        data['api_gravity'],\n",
    "        data['gas_gravity'],\n",
    "        data['reservoir_temperature']\n",
    "    ]\n",
    "    \n",
    "    X_list.append(row)\n",
    "\n",
    "# Convert X_list into a NumPy array\n",
    "X = np.array(X_list)\n",
    "\n",
    "print(\"Input matrix (X):\")\n",
    "print(X)"
   ]
  },
  {
   "cell_type": "code",
   "execution_count": 20,
   "metadata": {
    "colab": {
     "base_uri": "https://localhost:8080/"
    },
    "id": "5GSnpAImee73",
    "outputId": "2732471d-1afa-441b-f9af-883f67d65946"
   },
   "outputs": [
    {
     "name": "stdout",
     "output_type": "stream",
     "text": [
      "\n",
      "Target variable (y):\n",
      "[737 684 620 555 492 429 365 301 235 155]\n"
     ]
    }
   ],
   "source": [
    "# Initializing an empty list to store y values\n",
    "y_list = []\n",
    "\n",
    "# Iterating through each dictionary in pvt_data to extract 'actual_gor'\n",
    "for data in pvt_data:\n",
    "    y_list.append(data['actual_gor'])\n",
    "\n",
    "# Converting y_list into a NumPy array\n",
    "y = np.array(y_list)\n",
    "\n",
    "print(\"\\nTarget variable (y):\")\n",
    "print(y)"
   ]
  },
  {
   "cell_type": "code",
   "execution_count": 22,
   "metadata": {
    "colab": {
     "base_uri": "https://localhost:8080/",
     "height": 74
    },
    "id": "G8HNtBHDdedV",
    "outputId": "fa15df1b-3fea-4d2f-e2b9-68bb7119c2cd"
   },
   "outputs": [
    {
     "data": {
      "text/html": [
       "<style>#sk-container-id-1 {\n",
       "  /* Definition of color scheme common for light and dark mode */\n",
       "  --sklearn-color-text: black;\n",
       "  --sklearn-color-line: gray;\n",
       "  /* Definition of color scheme for unfitted estimators */\n",
       "  --sklearn-color-unfitted-level-0: #fff5e6;\n",
       "  --sklearn-color-unfitted-level-1: #f6e4d2;\n",
       "  --sklearn-color-unfitted-level-2: #ffe0b3;\n",
       "  --sklearn-color-unfitted-level-3: chocolate;\n",
       "  /* Definition of color scheme for fitted estimators */\n",
       "  --sklearn-color-fitted-level-0: #f0f8ff;\n",
       "  --sklearn-color-fitted-level-1: #d4ebff;\n",
       "  --sklearn-color-fitted-level-2: #b3dbfd;\n",
       "  --sklearn-color-fitted-level-3: cornflowerblue;\n",
       "\n",
       "  /* Specific color for light theme */\n",
       "  --sklearn-color-text-on-default-background: var(--sg-text-color, var(--theme-code-foreground, var(--jp-content-font-color1, black)));\n",
       "  --sklearn-color-background: var(--sg-background-color, var(--theme-background, var(--jp-layout-color0, white)));\n",
       "  --sklearn-color-border-box: var(--sg-text-color, var(--theme-code-foreground, var(--jp-content-font-color1, black)));\n",
       "  --sklearn-color-icon: #696969;\n",
       "\n",
       "  @media (prefers-color-scheme: dark) {\n",
       "    /* Redefinition of color scheme for dark theme */\n",
       "    --sklearn-color-text-on-default-background: var(--sg-text-color, var(--theme-code-foreground, var(--jp-content-font-color1, white)));\n",
       "    --sklearn-color-background: var(--sg-background-color, var(--theme-background, var(--jp-layout-color0, #111)));\n",
       "    --sklearn-color-border-box: var(--sg-text-color, var(--theme-code-foreground, var(--jp-content-font-color1, white)));\n",
       "    --sklearn-color-icon: #878787;\n",
       "  }\n",
       "}\n",
       "\n",
       "#sk-container-id-1 {\n",
       "  color: var(--sklearn-color-text);\n",
       "}\n",
       "\n",
       "#sk-container-id-1 pre {\n",
       "  padding: 0;\n",
       "}\n",
       "\n",
       "#sk-container-id-1 input.sk-hidden--visually {\n",
       "  border: 0;\n",
       "  clip: rect(1px 1px 1px 1px);\n",
       "  clip: rect(1px, 1px, 1px, 1px);\n",
       "  height: 1px;\n",
       "  margin: -1px;\n",
       "  overflow: hidden;\n",
       "  padding: 0;\n",
       "  position: absolute;\n",
       "  width: 1px;\n",
       "}\n",
       "\n",
       "#sk-container-id-1 div.sk-dashed-wrapped {\n",
       "  border: 1px dashed var(--sklearn-color-line);\n",
       "  margin: 0 0.4em 0.5em 0.4em;\n",
       "  box-sizing: border-box;\n",
       "  padding-bottom: 0.4em;\n",
       "  background-color: var(--sklearn-color-background);\n",
       "}\n",
       "\n",
       "#sk-container-id-1 div.sk-container {\n",
       "  /* jupyter's `normalize.less` sets `[hidden] { display: none; }`\n",
       "     but bootstrap.min.css set `[hidden] { display: none !important; }`\n",
       "     so we also need the `!important` here to be able to override the\n",
       "     default hidden behavior on the sphinx rendered scikit-learn.org.\n",
       "     See: https://github.com/scikit-learn/scikit-learn/issues/21755 */\n",
       "  display: inline-block !important;\n",
       "  position: relative;\n",
       "}\n",
       "\n",
       "#sk-container-id-1 div.sk-text-repr-fallback {\n",
       "  display: none;\n",
       "}\n",
       "\n",
       "div.sk-parallel-item,\n",
       "div.sk-serial,\n",
       "div.sk-item {\n",
       "  /* draw centered vertical line to link estimators */\n",
       "  background-image: linear-gradient(var(--sklearn-color-text-on-default-background), var(--sklearn-color-text-on-default-background));\n",
       "  background-size: 2px 100%;\n",
       "  background-repeat: no-repeat;\n",
       "  background-position: center center;\n",
       "}\n",
       "\n",
       "/* Parallel-specific style estimator block */\n",
       "\n",
       "#sk-container-id-1 div.sk-parallel-item::after {\n",
       "  content: \"\";\n",
       "  width: 100%;\n",
       "  border-bottom: 2px solid var(--sklearn-color-text-on-default-background);\n",
       "  flex-grow: 1;\n",
       "}\n",
       "\n",
       "#sk-container-id-1 div.sk-parallel {\n",
       "  display: flex;\n",
       "  align-items: stretch;\n",
       "  justify-content: center;\n",
       "  background-color: var(--sklearn-color-background);\n",
       "  position: relative;\n",
       "}\n",
       "\n",
       "#sk-container-id-1 div.sk-parallel-item {\n",
       "  display: flex;\n",
       "  flex-direction: column;\n",
       "}\n",
       "\n",
       "#sk-container-id-1 div.sk-parallel-item:first-child::after {\n",
       "  align-self: flex-end;\n",
       "  width: 50%;\n",
       "}\n",
       "\n",
       "#sk-container-id-1 div.sk-parallel-item:last-child::after {\n",
       "  align-self: flex-start;\n",
       "  width: 50%;\n",
       "}\n",
       "\n",
       "#sk-container-id-1 div.sk-parallel-item:only-child::after {\n",
       "  width: 0;\n",
       "}\n",
       "\n",
       "/* Serial-specific style estimator block */\n",
       "\n",
       "#sk-container-id-1 div.sk-serial {\n",
       "  display: flex;\n",
       "  flex-direction: column;\n",
       "  align-items: center;\n",
       "  background-color: var(--sklearn-color-background);\n",
       "  padding-right: 1em;\n",
       "  padding-left: 1em;\n",
       "}\n",
       "\n",
       "\n",
       "/* Toggleable style: style used for estimator/Pipeline/ColumnTransformer box that is\n",
       "clickable and can be expanded/collapsed.\n",
       "- Pipeline and ColumnTransformer use this feature and define the default style\n",
       "- Estimators will overwrite some part of the style using the `sk-estimator` class\n",
       "*/\n",
       "\n",
       "/* Pipeline and ColumnTransformer style (default) */\n",
       "\n",
       "#sk-container-id-1 div.sk-toggleable {\n",
       "  /* Default theme specific background. It is overwritten whether we have a\n",
       "  specific estimator or a Pipeline/ColumnTransformer */\n",
       "  background-color: var(--sklearn-color-background);\n",
       "}\n",
       "\n",
       "/* Toggleable label */\n",
       "#sk-container-id-1 label.sk-toggleable__label {\n",
       "  cursor: pointer;\n",
       "  display: block;\n",
       "  width: 100%;\n",
       "  margin-bottom: 0;\n",
       "  padding: 0.5em;\n",
       "  box-sizing: border-box;\n",
       "  text-align: center;\n",
       "}\n",
       "\n",
       "#sk-container-id-1 label.sk-toggleable__label-arrow:before {\n",
       "  /* Arrow on the left of the label */\n",
       "  content: \"▸\";\n",
       "  float: left;\n",
       "  margin-right: 0.25em;\n",
       "  color: var(--sklearn-color-icon);\n",
       "}\n",
       "\n",
       "#sk-container-id-1 label.sk-toggleable__label-arrow:hover:before {\n",
       "  color: var(--sklearn-color-text);\n",
       "}\n",
       "\n",
       "/* Toggleable content - dropdown */\n",
       "\n",
       "#sk-container-id-1 div.sk-toggleable__content {\n",
       "  max-height: 0;\n",
       "  max-width: 0;\n",
       "  overflow: hidden;\n",
       "  text-align: left;\n",
       "  /* unfitted */\n",
       "  background-color: var(--sklearn-color-unfitted-level-0);\n",
       "}\n",
       "\n",
       "#sk-container-id-1 div.sk-toggleable__content.fitted {\n",
       "  /* fitted */\n",
       "  background-color: var(--sklearn-color-fitted-level-0);\n",
       "}\n",
       "\n",
       "#sk-container-id-1 div.sk-toggleable__content pre {\n",
       "  margin: 0.2em;\n",
       "  border-radius: 0.25em;\n",
       "  color: var(--sklearn-color-text);\n",
       "  /* unfitted */\n",
       "  background-color: var(--sklearn-color-unfitted-level-0);\n",
       "}\n",
       "\n",
       "#sk-container-id-1 div.sk-toggleable__content.fitted pre {\n",
       "  /* unfitted */\n",
       "  background-color: var(--sklearn-color-fitted-level-0);\n",
       "}\n",
       "\n",
       "#sk-container-id-1 input.sk-toggleable__control:checked~div.sk-toggleable__content {\n",
       "  /* Expand drop-down */\n",
       "  max-height: 200px;\n",
       "  max-width: 100%;\n",
       "  overflow: auto;\n",
       "}\n",
       "\n",
       "#sk-container-id-1 input.sk-toggleable__control:checked~label.sk-toggleable__label-arrow:before {\n",
       "  content: \"▾\";\n",
       "}\n",
       "\n",
       "/* Pipeline/ColumnTransformer-specific style */\n",
       "\n",
       "#sk-container-id-1 div.sk-label input.sk-toggleable__control:checked~label.sk-toggleable__label {\n",
       "  color: var(--sklearn-color-text);\n",
       "  background-color: var(--sklearn-color-unfitted-level-2);\n",
       "}\n",
       "\n",
       "#sk-container-id-1 div.sk-label.fitted input.sk-toggleable__control:checked~label.sk-toggleable__label {\n",
       "  background-color: var(--sklearn-color-fitted-level-2);\n",
       "}\n",
       "\n",
       "/* Estimator-specific style */\n",
       "\n",
       "/* Colorize estimator box */\n",
       "#sk-container-id-1 div.sk-estimator input.sk-toggleable__control:checked~label.sk-toggleable__label {\n",
       "  /* unfitted */\n",
       "  background-color: var(--sklearn-color-unfitted-level-2);\n",
       "}\n",
       "\n",
       "#sk-container-id-1 div.sk-estimator.fitted input.sk-toggleable__control:checked~label.sk-toggleable__label {\n",
       "  /* fitted */\n",
       "  background-color: var(--sklearn-color-fitted-level-2);\n",
       "}\n",
       "\n",
       "#sk-container-id-1 div.sk-label label.sk-toggleable__label,\n",
       "#sk-container-id-1 div.sk-label label {\n",
       "  /* The background is the default theme color */\n",
       "  color: var(--sklearn-color-text-on-default-background);\n",
       "}\n",
       "\n",
       "/* On hover, darken the color of the background */\n",
       "#sk-container-id-1 div.sk-label:hover label.sk-toggleable__label {\n",
       "  color: var(--sklearn-color-text);\n",
       "  background-color: var(--sklearn-color-unfitted-level-2);\n",
       "}\n",
       "\n",
       "/* Label box, darken color on hover, fitted */\n",
       "#sk-container-id-1 div.sk-label.fitted:hover label.sk-toggleable__label.fitted {\n",
       "  color: var(--sklearn-color-text);\n",
       "  background-color: var(--sklearn-color-fitted-level-2);\n",
       "}\n",
       "\n",
       "/* Estimator label */\n",
       "\n",
       "#sk-container-id-1 div.sk-label label {\n",
       "  font-family: monospace;\n",
       "  font-weight: bold;\n",
       "  display: inline-block;\n",
       "  line-height: 1.2em;\n",
       "}\n",
       "\n",
       "#sk-container-id-1 div.sk-label-container {\n",
       "  text-align: center;\n",
       "}\n",
       "\n",
       "/* Estimator-specific */\n",
       "#sk-container-id-1 div.sk-estimator {\n",
       "  font-family: monospace;\n",
       "  border: 1px dotted var(--sklearn-color-border-box);\n",
       "  border-radius: 0.25em;\n",
       "  box-sizing: border-box;\n",
       "  margin-bottom: 0.5em;\n",
       "  /* unfitted */\n",
       "  background-color: var(--sklearn-color-unfitted-level-0);\n",
       "}\n",
       "\n",
       "#sk-container-id-1 div.sk-estimator.fitted {\n",
       "  /* fitted */\n",
       "  background-color: var(--sklearn-color-fitted-level-0);\n",
       "}\n",
       "\n",
       "/* on hover */\n",
       "#sk-container-id-1 div.sk-estimator:hover {\n",
       "  /* unfitted */\n",
       "  background-color: var(--sklearn-color-unfitted-level-2);\n",
       "}\n",
       "\n",
       "#sk-container-id-1 div.sk-estimator.fitted:hover {\n",
       "  /* fitted */\n",
       "  background-color: var(--sklearn-color-fitted-level-2);\n",
       "}\n",
       "\n",
       "/* Specification for estimator info (e.g. \"i\" and \"?\") */\n",
       "\n",
       "/* Common style for \"i\" and \"?\" */\n",
       "\n",
       ".sk-estimator-doc-link,\n",
       "a:link.sk-estimator-doc-link,\n",
       "a:visited.sk-estimator-doc-link {\n",
       "  float: right;\n",
       "  font-size: smaller;\n",
       "  line-height: 1em;\n",
       "  font-family: monospace;\n",
       "  background-color: var(--sklearn-color-background);\n",
       "  border-radius: 1em;\n",
       "  height: 1em;\n",
       "  width: 1em;\n",
       "  text-decoration: none !important;\n",
       "  margin-left: 1ex;\n",
       "  /* unfitted */\n",
       "  border: var(--sklearn-color-unfitted-level-1) 1pt solid;\n",
       "  color: var(--sklearn-color-unfitted-level-1);\n",
       "}\n",
       "\n",
       ".sk-estimator-doc-link.fitted,\n",
       "a:link.sk-estimator-doc-link.fitted,\n",
       "a:visited.sk-estimator-doc-link.fitted {\n",
       "  /* fitted */\n",
       "  border: var(--sklearn-color-fitted-level-1) 1pt solid;\n",
       "  color: var(--sklearn-color-fitted-level-1);\n",
       "}\n",
       "\n",
       "/* On hover */\n",
       "div.sk-estimator:hover .sk-estimator-doc-link:hover,\n",
       ".sk-estimator-doc-link:hover,\n",
       "div.sk-label-container:hover .sk-estimator-doc-link:hover,\n",
       ".sk-estimator-doc-link:hover {\n",
       "  /* unfitted */\n",
       "  background-color: var(--sklearn-color-unfitted-level-3);\n",
       "  color: var(--sklearn-color-background);\n",
       "  text-decoration: none;\n",
       "}\n",
       "\n",
       "div.sk-estimator.fitted:hover .sk-estimator-doc-link.fitted:hover,\n",
       ".sk-estimator-doc-link.fitted:hover,\n",
       "div.sk-label-container:hover .sk-estimator-doc-link.fitted:hover,\n",
       ".sk-estimator-doc-link.fitted:hover {\n",
       "  /* fitted */\n",
       "  background-color: var(--sklearn-color-fitted-level-3);\n",
       "  color: var(--sklearn-color-background);\n",
       "  text-decoration: none;\n",
       "}\n",
       "\n",
       "/* Span, style for the box shown on hovering the info icon */\n",
       ".sk-estimator-doc-link span {\n",
       "  display: none;\n",
       "  z-index: 9999;\n",
       "  position: relative;\n",
       "  font-weight: normal;\n",
       "  right: .2ex;\n",
       "  padding: .5ex;\n",
       "  margin: .5ex;\n",
       "  width: min-content;\n",
       "  min-width: 20ex;\n",
       "  max-width: 50ex;\n",
       "  color: var(--sklearn-color-text);\n",
       "  box-shadow: 2pt 2pt 4pt #999;\n",
       "  /* unfitted */\n",
       "  background: var(--sklearn-color-unfitted-level-0);\n",
       "  border: .5pt solid var(--sklearn-color-unfitted-level-3);\n",
       "}\n",
       "\n",
       ".sk-estimator-doc-link.fitted span {\n",
       "  /* fitted */\n",
       "  background: var(--sklearn-color-fitted-level-0);\n",
       "  border: var(--sklearn-color-fitted-level-3);\n",
       "}\n",
       "\n",
       ".sk-estimator-doc-link:hover span {\n",
       "  display: block;\n",
       "}\n",
       "\n",
       "/* \"?\"-specific style due to the `<a>` HTML tag */\n",
       "\n",
       "#sk-container-id-1 a.estimator_doc_link {\n",
       "  float: right;\n",
       "  font-size: 1rem;\n",
       "  line-height: 1em;\n",
       "  font-family: monospace;\n",
       "  background-color: var(--sklearn-color-background);\n",
       "  border-radius: 1rem;\n",
       "  height: 1rem;\n",
       "  width: 1rem;\n",
       "  text-decoration: none;\n",
       "  /* unfitted */\n",
       "  color: var(--sklearn-color-unfitted-level-1);\n",
       "  border: var(--sklearn-color-unfitted-level-1) 1pt solid;\n",
       "}\n",
       "\n",
       "#sk-container-id-1 a.estimator_doc_link.fitted {\n",
       "  /* fitted */\n",
       "  border: var(--sklearn-color-fitted-level-1) 1pt solid;\n",
       "  color: var(--sklearn-color-fitted-level-1);\n",
       "}\n",
       "\n",
       "/* On hover */\n",
       "#sk-container-id-1 a.estimator_doc_link:hover {\n",
       "  /* unfitted */\n",
       "  background-color: var(--sklearn-color-unfitted-level-3);\n",
       "  color: var(--sklearn-color-background);\n",
       "  text-decoration: none;\n",
       "}\n",
       "\n",
       "#sk-container-id-1 a.estimator_doc_link.fitted:hover {\n",
       "  /* fitted */\n",
       "  background-color: var(--sklearn-color-fitted-level-3);\n",
       "}\n",
       "</style><div id=\"sk-container-id-1\" class=\"sk-top-container\"><div class=\"sk-text-repr-fallback\"><pre>LinearRegression()</pre><b>In a Jupyter environment, please rerun this cell to show the HTML representation or trust the notebook. <br />On GitHub, the HTML representation is unable to render, please try loading this page with nbviewer.org.</b></div><div class=\"sk-container\" hidden><div class=\"sk-item\"><div class=\"sk-estimator fitted sk-toggleable\"><input class=\"sk-toggleable__control sk-hidden--visually\" id=\"sk-estimator-id-1\" type=\"checkbox\" checked><label for=\"sk-estimator-id-1\" class=\"sk-toggleable__label fitted sk-toggleable__label-arrow fitted\">&nbsp;&nbsp;LinearRegression<a class=\"sk-estimator-doc-link fitted\" rel=\"noreferrer\" target=\"_blank\" href=\"https://scikit-learn.org/1.4/modules/generated/sklearn.linear_model.LinearRegression.html\">?<span>Documentation for LinearRegression</span></a><span class=\"sk-estimator-doc-link fitted\">i<span>Fitted</span></span></label><div class=\"sk-toggleable__content fitted\"><pre>LinearRegression()</pre></div> </div></div></div></div>"
      ],
      "text/plain": [
       "LinearRegression()"
      ]
     },
     "execution_count": 22,
     "metadata": {},
     "output_type": "execute_result"
    }
   ],
   "source": [
    "import numpy as np\n",
    "from sklearn.linear_model import LinearRegression\n",
    "\n",
    "model = LinearRegression()\n",
    "model.fit(  X, y)"
   ]
  },
  {
   "cell_type": "code",
   "execution_count": 9,
   "metadata": {
    "colab": {
     "base_uri": "https://localhost:8080/"
    },
    "id": "IZbdThwOhQJi",
    "outputId": "dfa191b6-5596-4fe5-b3f6-fb9995ebf359"
   },
   "outputs": [
    {
     "name": "stdout",
     "output_type": "stream",
     "text": [
      "Mean Absolute Error (MAE): 1.266999999999996\n",
      "Mean Squared Error (MSE): 2.1695299999999724\n",
      "Root Mean Squared Error (RMSE): 1.4729324492317943\n",
      "Correlation Coefficient: 0.9999999770373402\n",
      "Average Percent Relative Error (%): 0.3936507594355425\n",
      "Sum of Squared Residuals: 21.695299999999722\n"
     ]
    }
   ],
   "source": [
    "from sklearn.metrics import mean_absolute_error, mean_squared_error\n",
    "from scipy.stats import pearsonr\n",
    "import numpy as np\n",
    "\n",
    "# Example actual GOR values (y_true) and estimated GOR values (estimated_gor)\n",
    "y_true = np.array([737, 684, 620, 555, 492, 429, 365, 301, 235, 155])\n",
    "estimated_gor = np.array([734.71, 682.23, 618.73, 554.26, 491.74, 429.22, 365.72, 302.21, 236.72, 157.47])\n",
    "\n",
    "# Calculate Mean Absolute Error (MAE)\n",
    "mae = mean_absolute_error(y_true, estimated_gor)\n",
    "\n",
    "# Calculate Mean Squared Error (MSE)\n",
    "mse = mean_squared_error(y_true, estimated_gor)\n",
    "\n",
    "# Calculate Root Mean Squared Error (RMSE)\n",
    "rmse = np.sqrt(mse)\n",
    "\n",
    "# Calculate Correlation Coefficient\n",
    "correlation_coefficient, _ = pearsonr(y_true, estimated_gor)\n",
    "\n",
    "# Calculate Average Percent Relative Error (%)\n",
    "percent_relative_errors = np.abs((y_true - estimated_gor) / y_true) * 100\n",
    "average_percent_relative_error = np.mean(percent_relative_errors)\n",
    "\n",
    "# Calculate Sum of Squared Residuals\n",
    "squared_residuals = (y_true - estimated_gor) ** 2\n",
    "sum_squared_residuals = np.sum(squared_residuals)\n",
    "\n",
    "# Print results\n",
    "print(f\"Mean Absolute Error (MAE): {mae}\")\n",
    "print(f\"Mean Squared Error (MSE): {mse}\")\n",
    "print(f\"Root Mean Squared Error (RMSE): {rmse}\")\n",
    "print(f\"Correlation Coefficient: {correlation_coefficient}\")\n",
    "print(f\"Average Percent Relative Error (%): {average_percent_relative_error}\")\n",
    "print(f\"Sum of Squared Residuals: {sum_squared_residuals}\")\n"
   ]
  },
  {
   "cell_type": "markdown",
   "metadata": {
    "id": "aEDpvZ89hQy8"
   },
   "source": [
    "## Insights from the Statistical Metrics\r\n",
    "\r\n",
    "1. **Mean Absolute Error (MAE): 1.267**\r\n",
    "   - The MAE indicates that, on average, the GOR estimates deviate from the actual values by about 1.27 units. This relatively low error suggests that the ACO algorithm provides estimates that are fairly close to the actual GOR values, which is promising for practical applications.\r\n",
    "\r\n",
    "2. **Mean Squared Error (MSE): 2.170**\r\n",
    "   - MSE gives greater weight to larger errors due to squaring the residuals. While the MSE is slightly higher than the MAE, it confirms that there are some deviations that may be larger than average. This could be important in contexts where large errors are particularly undesirable, emphasizing the need to investigate and potentially refine the algorithm further.\r\n",
    "\r\n",
    "3. **Root Mean Squared Error (RMSE): 1.473**\r\n",
    "   - The RMSE, being in the same units as GOR, provides an interpretable measure of estimation error. A value of 1.473 indicates that the ACO algorithm's estimates typically fall within approximately 1.47 units of the actual GOR. This further reinforces the algorithm's reliability, especially when dealing with values in a specific operational range.\r\n",
    "\r\n",
    "4. **Correlation Coefficient: 0.99999**\r\n",
    "   - This extremely high correlation coefficient suggests a near-perfect linear relationship between the estimated and actual GOR values. Such a strong correlation indicates that the ACO algorithm is effectively capturing the underlying patterns in the data, making it a robust tool for estimating GOR under similar conditions.\r\n",
    "\r\n",
    "5. **Average Percent Relative Error (%): 0.394**\r\n",
    "   - An average percent relative error of approximately 0.39% indicates that the errors in the estimates are minimal relative to the actual values. This demonstrates the accuracy of the ACO algorithm and its potential applicability in real-world scenarios where precise estimates are necessary for decision-making.\r\n",
    "\r\n",
    "6. **Sum of Squared Residuals: 21.695**\r\n",
    "   - The total error represented by the sum of squared residuals indicates the cumulative deviation of all estimates from actual values. While it provides a quantitative measure of error, its significance lies in comparing it to the total variability of the data. If this value is significantly lower than the total variability, it confirms the effectiveness of the algorithm.\r\n",
    "\r\n",
    "## Conclusion and Recommendations\r\n",
    "\r\n",
    "- **Algorithm Reliability**: The overall metrics suggest that the ACO algorithm is reliable for estimating GOR based on the provided parameters, which is crucial for determining gas solubility at bubble point pressure.\r\n",
    "\r\n",
    "- **Further Optimization**: Although the metrics are strong, additional fine-tuning of the algorithm could help reduce the MAE and RMSE even more, especially in cases where larger estimation errors may occur.\r\n",
    "\r\n",
    "- **Application in Real Scenarios**: Given the accuracy demonstrated by the correlation coefficient and the low percent relative error, the ACO algorithm can be applied in real-world scenarios, such as reservoir management and gas production forecasting, with confidence.\r\n",
    "\r\n",
    "- **Data Variability**: Consider conducting further analysis on the dataset to identify any outliers or data points that could skew the algorithm's performance, as addressing these could lead to even better estimation capabilities.\r\n",
    " the model.\r\n",
    "es.\r\n",
    "ues."
   ]
  },
  {
   "cell_type": "markdown",
   "metadata": {
    "id": "svPnzYvtlZW4"
   },
   "source": [
    "### Cross Plot of Estimated vs Actual Gas Solubility"
   ]
  },
  {
   "cell_type": "code",
   "execution_count": 12,
   "metadata": {
    "colab": {
     "base_uri": "https://localhost:8080/",
     "height": 607
    },
    "id": "I44C_NuVlZcl",
    "outputId": "b5aa9412-4836-4bd6-8a6f-36f4604cb710"
   },
   "outputs": [
    {
     "data": {
      "image/png": "[encoded data removed]",
      "text/plain": [
       "<Figure size 500x500 with 1 Axes>"
      ]
     },
     "metadata": {},
     "output_type": "display_data"
    }
   ],
   "source": [
    "import matplotlib.pyplot as plt\n",
    "\n",
    "# Constants for gas solubility calculation (replace with actual values)\n",
    "gas_gravity = 0.743  # Specific gravity of gas\n",
    "api_gravity = 37     # API gravity of oil\n",
    "reservoir_pressure = 2000  # Example reservoir pressure in psi\n",
    "\n",
    "# Calculate estimated gas solubility\n",
    "def calculate_gas_solubility(gor):\n",
    "    return (gor * gas_gravity) / (api_gravity * reservoir_pressure)\n",
    "\n",
    "# Calculate actual gas solubility from PVT data\n",
    "actual_gas_solubility = []\n",
    "for data in pvt_data:\n",
    "    actual_gor = data['actual_gor']\n",
    "    actual_gas_solubility.append(calculate_gas_solubility(actual_gor))\n",
    "\n",
    "# Calculate estimated gas solubility from estimated GOR\n",
    "estimated_gas_solubility = []\n",
    "for gor in estimated_gor:\n",
    "    estimated_gas_solubility.append(calculate_gas_solubility(gor))\n",
    "\n",
    "# Plotting\n",
    "plt.figure(figsize=(5, 5))\n",
    "plt.scatter(actual_gas_solubility, estimated_gas_solubility, color='blue', label='Estimated vs Actual Gas Solubility')\n",
    "plt.plot([min(actual_gas_solubility), max(actual_gas_solubility)], [min(actual_gas_solubility), max(actual_gas_solubility)], color='red', linestyle='--', label='Ideal Fit')\n",
    "plt.xlabel('Actual Gas Solubility')\n",
    "plt.ylabel('Estimated Gas Solubility')\n",
    "plt.title('Cross Plot of Estimated vs Actual Gas Solubility')\n",
    "plt.legend()\n",
    "plt.grid(True)\n",
    "plt.tight_layout()\n",
    "plt.show()"
   ]
  },
  {
   "cell_type": "markdown",
   "metadata": {},
   "source": [
    "**Accurate Predictions**: The closely fitting red dashed line shows that our estimated gas solubility values match the actual values very well.\n",
    "\n",
    "**Strong Relationship**: The scatter plot's straight line suggests a clear connection between our estimated and actual gas solubility values. This means our method of predicting gas solubility using factors like GOR and pressure works effectively.\n",
    "\n",
    "**Model Confirmation**: The plot confirms that our method for estimating gas solubility is reliable. Most points fall close to the ideal line, showing that our predictions are consistent and accurate under specific reservoir conditions.\n",
    "\n",
    "**Performance Check**: By looking at how close the points are to the ideal line, we can see how well our model performs. A tight cluster around the line means our predictions are consistent, while larger differences might show where we can improve our model.\n",
    "\n",
    "**Real-world Use**: This confirmation supports using our model in real-world situations where knowing gas solubility accurately is important, like in managing reservoirs or planning gas extraction."
   ]
  },
  {
   "cell_type": "markdown",
   "metadata": {},
   "source": [
    "### Absolute error against Bubble Point Pressure"
   ]
  },
  {
   "cell_type": "code",
   "execution_count": 24,
   "metadata": {},
   "outputs": [
    {
     "data": {
      "image/png": "[encoded data removed]",
      "text/plain": [
       "<Figure size 500x500 with 1 Axes>"
      ]
     },
     "metadata": {},
     "output_type": "display_data"
    }
   ],
   "source": [
    "# Calculate absolute error\n",
    "bubble_point_pressure = [data['bubble_point_pressure'] for data in pvt_data]  # Extract bubble point pressures\n",
    "absolute_error = [abs(estimated - actual) for estimated, actual in zip(estimated_gor, y)]\n",
    "\n",
    "# Error plot\n",
    "plt.figure(figsize=(5, 5))\n",
    "plt.plot(bubble_point_pressure, absolute_error, marker='o', linestyle='-', color='green', label='Absolute Error')\n",
    "plt.title('Absolute Error Plot')\n",
    "plt.xlabel('Bubble Point Pressure')\n",
    "plt.ylabel('Absolute Error')\n",
    "plt.legend()\n",
    "plt.grid(True)\n",
    "plt.show()"
   ]
  },
  {
   "cell_type": "code",
   "execution_count": 64,
   "metadata": {},
   "outputs": [
    {
     "data": {
      "text/plain": [
       "[2.2899999999999636,\n",
       " 1.7699999999999818,\n",
       " 1.2699999999999818,\n",
       " 0.7400000000000091,\n",
       " 0.2599999999999909,\n",
       " 0.22000000000002728,\n",
       " 0.7200000000000273,\n",
       " 1.2099999999999795,\n",
       " 1.7199999999999989,\n",
       " 2.469999999999999]"
      ]
     },
     "execution_count": 64,
     "metadata": {},
     "output_type": "execute_result"
    }
   ],
   "source": [
    "absolute_error"
   ]
  },
  {
   "cell_type": "markdown",
   "metadata": {},
   "source": [
    "## Absolute Error Against Bubble Point Pressure\r\n",
    "\r\n",
    "The following data represents the absolute errors in the Gas-Oil Ratio (GOR) estimates corresponding to various values of bubble point pressure47           |\r\n",
    "\r\n",
    "### Analysis of the Data\r\n",
    "\r\n",
    "- The absolute errors show how closely the estimated GOR values align with the actual measurements for varying bubble point pressures.\r\n",
    "- Notably, the error tends to be higher at extreme values of bubble point pressure, indicating potential areas where the estimation algorithm could be further refined for improved accuracy.\r\n",
    "- The smallest errors (0.22 to 0.74) occur within a mid-range of bubble point pressures, suggesting that the algorithm performs best in this range.\r\n",
    "\r\n",
    "### Conclusion\r\n",
    "\r\n",
    "- Understanding the relationship between bubble point pressure and absolute error is essential for optimizing GOR estimations and ensuring the reliability of predictions in practical applications.\r\n"
   ]
  },
  {
   "cell_type": "markdown",
   "metadata": {},
   "source": [
    "### Residual Plot"
   ]
  },
  {
   "cell_type": "code",
   "execution_count": 30,
   "metadata": {},
   "outputs": [
    {
     "name": "stdout",
     "output_type": "stream",
     "text": [
      "Residuals:\n",
      "Point 1: Bubble Point Pressure = 2405, Residual = 1670.29\n",
      "Point 2: Bubble Point Pressure = 2200, Residual = 1517.77\n",
      "Point 3: Bubble Point Pressure = 1950, Residual = 1331.27\n",
      "Point 4: Bubble Point Pressure = 1700, Residual = 1145.74\n",
      "Point 5: Bubble Point Pressure = 1450, Residual = 958.26\n",
      "Point 6: Bubble Point Pressure = 1200, Residual = 770.78\n",
      "Point 7: Bubble Point Pressure = 950, Residual = 584.28\n",
      "Point 8: Bubble Point Pressure = 700, Residual = 397.79\n",
      "Point 9: Bubble Point Pressure = 450, Residual = 213.28\n",
      "Point 10: Bubble Point Pressure = 200, Residual = 42.53\n"
     ]
    },
    {
     "data": {
      "image/png": "[encoded data removed]",
      "text/plain": [
       "<Figure size 800x600 with 1 Axes>"
      ]
     },
     "metadata": {},
     "output_type": "display_data"
    }
   ],
   "source": [
    "residuals = []\n",
    "for estimated, actual in zip(estimated_gor, bubble_point_pressure):\n",
    "    residual = actual - estimated\n",
    "    residuals.append(residual)\n",
    "\n",
    "# Print residuals\n",
    "print(\"Residuals:\")\n",
    "for i, (bubble_pressure, residual) in enumerate(zip(bubble_point_pressure, residuals), start=1):\n",
    "    print(f\"Point {i}: Bubble Point Pressure = {bubble_pressure}, Residual = {residual}\")\n",
    "\n",
    "# Residual plot\n",
    "plt.figure(figsize=(8, 6))\n",
    "plt.scatter(bubble_point_pressure, residuals, color='purple', label='Residuals')\n",
    "plt.axhline(y=0, color='red', linestyle='--', linewidth=1.5)\n",
    "plt.title('Residual Plot')\n",
    "plt.xlabel('Bubble Point Pressure')\n",
    "plt.ylabel('Residuals')\n",
    "plt.legend()\n",
    "plt.grid(True)\n",
    "plt.show()"
   ]
  },
  {
   "cell_type": "markdown",
   "metadata": {},
   "source": [
    "## Residuals Analysis Against Bubble Point Pressure\r\n",
    "\r\n",
    "The following table outlines the residuals obtained from the Gas-Oil Ratio (GOR) estimations at different bubble point pressure values. Residuals indicate the difference between the estimated and actual GOR values, which is crucial for evaluating the performance of the estimation approach.\r\n",
    "\r\n",
    "| Bubble Point Pressure (psi) | Residual        |\r\n",
    "|------------------------------|------------------|\r\n",
    "| 2405                         | -1670.29         |\r\n",
    "| 2200                         | -1517.77         |\r\n",
    "| 1950                         | -1331.27         |\r\n",
    "| 1700                         | -1145.74         |\r\n",
    "| 1450                         | -958.26          |\r\n",
    "| 1200                         | -770.78          |\r\n",
    "| 950                          | -584.28          |\r\n",
    "| 700                          | -397.79          |\r\n",
    "| 450                          | -213.28          |\r\n",
    "| 200                          | -42.53           |\r\n",
    "\r\n",
    "### Insights from Residuals\r\n",
    "\r\n",
    "- **Negative Residuals**: All residuals are negative, indicating that the estimated GOR values are consistently lower than the actual measurements across the tested bubble point pressures. This suggests a systematic underestimation in the estimation approach.\r\n",
    "- **Magnitude of Residuals**: The magnitude of the residuals decreases as the bubble point pressure decreases, which indicates that the predictions are more accurate at lower pressures.\r\n",
    "- **Potential for Improvement**: The significant residuals at higher pressures highlight an opportunity for refinement to reduce prediction errors and improve the accuracy of GOR estimates.\r\n",
    "\r\n",
    "### Conclusion\r\n",
    "\r\n",
    "- Monitoring residuals is essential in understanding performance and identifying areas that require further optimization. Addressing the underestimation seen in the residuals will enhance the reliability of GOR predictions in real-world applications.\r\n"
   ]
  },
  {
   "cell_type": "markdown",
   "metadata": {},
   "source": [
    "### Mean Absolute Error Across BPP Categories"
   ]
  },
  {
   "cell_type": "code",
   "execution_count": 32,
   "metadata": {},
   "outputs": [
    {
     "name": "stderr",
     "output_type": "stream",
     "text": [
      "C:\\Users\\CALEB\\AppData\\Local\\Temp\\ipykernel_22632\\1128298012.py:20: FutureWarning: The default of observed=False is deprecated and will be changed to True in a future version of pandas. Pass observed=False to retain current behavior or observed=True to adopt the future default and silence this warning.\n",
      "  absolute_errors_by_category = data.groupby('bpp_category')['absolute_error'].mean()\n"
     ]
    }
   ],
   "source": [
    "import pandas as pd\n",
    "import matplotlib.pyplot as plt\n",
    "\n",
    "# Given data\n",
    "bubble_point_pressure = [737, 684, 620, 555, 492, 429, 365, 301, 235, 155]\n",
    "\n",
    "# Create DataFrame\n",
    "data = pd.DataFrame({\n",
    "    'absolute_error': absolute_error,\n",
    "    'bubble_point_pressure': bubble_point_pressure\n",
    "})\n",
    "\n",
    "# Define bins for BPP categories\n",
    "bins = [0, 300, 500, 700, 800]  # Adjust bins as per your specific data range\n",
    "\n",
    "# Categorize BPP into bins\n",
    "data['bpp_category'] = pd.cut(data['bubble_point_pressure'], bins=bins, labels=['Low BPP', 'Medium BPP', 'High BPP', 'Very High BPP'])\n",
    "\n",
    "# Calculate mean absolute error for each BPP category\n",
    "absolute_errors_by_category = data.groupby('bpp_category')['absolute_error'].mean()\n"
   ]
  },
  {
   "cell_type": "code",
   "execution_count": 73,
   "metadata": {},
   "outputs": [
    {
     "data": {
      "text/plain": [
       "array([2.095 , 0.6025, 1.26  , 2.29  ])"
      ]
     },
     "execution_count": 73,
     "metadata": {},
     "output_type": "execute_result"
    }
   ],
   "source": [
    "absolute_errors_by_category.values"
   ]
  },
  {
   "cell_type": "code",
   "execution_count": 75,
   "metadata": {},
   "outputs": [
    {
     "data": {
      "text/plain": [
       "CategoricalIndex(['Low BPP', 'Medium BPP', 'High BPP', 'Very High BPP'], categories=['Low BPP', 'Medium BPP', 'High BPP', 'Very High BPP'], ordered=True, dtype='category', name='bpp_category')"
      ]
     },
     "execution_count": 75,
     "metadata": {},
     "output_type": "execute_result"
    }
   ],
   "source": [
    "absolute_errors_by_category.index"
   ]
  },
  {
   "cell_type": "code",
   "execution_count": 34,
   "metadata": {},
   "outputs": [
    {
     "data": {
      "image/png": "[encoded data removed]",
      "text/plain": [
       "<Figure size 500x500 with 1 Axes>"
      ]
     },
     "metadata": {},
     "output_type": "display_data"
    }
   ],
   "source": [
    "# Plotting\n",
    "plt.figure(figsize=(5, 5))\n",
    "plt.bar(absolute_errors_by_category.index, absolute_errors_by_category.values, color='skyblue')\n",
    "plt.title('Mean Absolute Error Across BPP Categories')\n",
    "plt.xlabel('BPP Categories')\n",
    "plt.ylabel('Mean Absolute Error')\n",
    "plt.xticks(rotation=45)\n",
    "plt.grid(axis='y')\n",
    "plt.tight_layout()\n",
    "plt.show()"
   ]
  },
  {
   "cell_type": "markdown",
   "metadata": {},
   "source": [
    "The highest mean absolute error occurs in the Low BPP category, followed by Medium BPP, Very High BPP, and High BPP."
   ]
  }
 ],
 "metadata": {
  "colab": {
   "provenance": []
  },
  "kernelspec": {
   "display_name": "Python 3 (ipykernel)",
   "language": "python",
   "name": "python3"
  },
  "language_info": {
   "codemirror_mode": {
    "name": "ipython",
    "version": 3
   },
   "file_extension": ".py",
   "mimetype": "text/x-python",
   "name": "python",
   "nbconvert_exporter": "python",
   "pygments_lexer": "ipython3",
   "version": "3.12.4"
  }
 },
 "nbformat": 4,
 "nbformat_minor": 4
}
